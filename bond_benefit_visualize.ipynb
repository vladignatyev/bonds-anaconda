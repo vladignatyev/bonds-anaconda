{
 "cells": [
  {
   "cell_type": "code",
   "execution_count": 1,
   "metadata": {
    "collapsed": true
   },
   "outputs": [],
   "source": [
    "import pandas as pd, numpy as np"
   ]
  },
  {
   "cell_type": "code",
   "execution_count": 2,
   "metadata": {
    "collapsed": false
   },
   "outputs": [],
   "source": [
    "#df = pd.read_csv('/home/just/Desktop/vovan/Аэрофлот_1day_01012008_15052016.txt',sep=';')#,error_bad_lines=False)\n",
    "#df = pd.read_csv('/home/just/Desktop/vovan/Сургнфгз_1day_01012008_15052016.txt',sep=';')#,error_bad_lines=False)\n",
    "df = pd.read_csv('data/Роснефть_1day_01012008_15052016.txt',sep=';')#,error_bad_lines=False)"
   ]
  },
  {
   "cell_type": "code",
   "execution_count": 3,
   "metadata": {
    "collapsed": false
   },
   "outputs": [],
   "source": [
    "renamer = {c:c.strip('<>') for c in df.columns}\n",
    "df.rename(columns=renamer,inplace=True)"
   ]
  },
  {
   "cell_type": "code",
   "execution_count": 4,
   "metadata": {
    "collapsed": false
   },
   "outputs": [
    {
     "data": {
      "text/plain": [
       "TICKER      object\n",
       "PER         object\n",
       "DATE         int64\n",
       "TIME         int64\n",
       "OPEN       float64\n",
       "HIGH       float64\n",
       "LOW        float64\n",
       "CLOSE      float64\n",
       "VOL          int64\n",
       "OPENINT      int64\n",
       "dtype: object"
      ]
     },
     "execution_count": 4,
     "metadata": {},
     "output_type": "execute_result"
    }
   ],
   "source": [
    "df.dtypes"
   ]
  },
  {
   "cell_type": "code",
   "execution_count": 5,
   "metadata": {
    "collapsed": false
   },
   "outputs": [
    {
     "data": {
      "text/html": [
       "<div>\n",
       "<table border=\"1\" class=\"dataframe\">\n",
       "  <thead>\n",
       "    <tr style=\"text-align: right;\">\n",
       "      <th></th>\n",
       "      <th>TICKER</th>\n",
       "      <th>PER</th>\n",
       "      <th>DATE</th>\n",
       "      <th>TIME</th>\n",
       "      <th>OPEN</th>\n",
       "      <th>HIGH</th>\n",
       "      <th>LOW</th>\n",
       "      <th>CLOSE</th>\n",
       "      <th>VOL</th>\n",
       "      <th>OPENINT</th>\n",
       "    </tr>\n",
       "  </thead>\n",
       "  <tbody>\n",
       "    <tr>\n",
       "      <th>0</th>\n",
       "      <td>Роснефть</td>\n",
       "      <td>D</td>\n",
       "      <td>20080109</td>\n",
       "      <td>0</td>\n",
       "      <td>231.70</td>\n",
       "      <td>236.10</td>\n",
       "      <td>227.02</td>\n",
       "      <td>227.74</td>\n",
       "      <td>7560861</td>\n",
       "      <td>0</td>\n",
       "    </tr>\n",
       "    <tr>\n",
       "      <th>1</th>\n",
       "      <td>Роснефть</td>\n",
       "      <td>D</td>\n",
       "      <td>20080110</td>\n",
       "      <td>0</td>\n",
       "      <td>229.94</td>\n",
       "      <td>231.30</td>\n",
       "      <td>228.12</td>\n",
       "      <td>230.60</td>\n",
       "      <td>8623695</td>\n",
       "      <td>0</td>\n",
       "    </tr>\n",
       "    <tr>\n",
       "      <th>2</th>\n",
       "      <td>Роснефть</td>\n",
       "      <td>D</td>\n",
       "      <td>20080111</td>\n",
       "      <td>0</td>\n",
       "      <td>226.00</td>\n",
       "      <td>226.50</td>\n",
       "      <td>222.38</td>\n",
       "      <td>223.38</td>\n",
       "      <td>19006323</td>\n",
       "      <td>0</td>\n",
       "    </tr>\n",
       "    <tr>\n",
       "      <th>3</th>\n",
       "      <td>Роснефть</td>\n",
       "      <td>D</td>\n",
       "      <td>20080114</td>\n",
       "      <td>0</td>\n",
       "      <td>223.00</td>\n",
       "      <td>226.10</td>\n",
       "      <td>222.53</td>\n",
       "      <td>224.00</td>\n",
       "      <td>11227477</td>\n",
       "      <td>0</td>\n",
       "    </tr>\n",
       "    <tr>\n",
       "      <th>4</th>\n",
       "      <td>Роснефть</td>\n",
       "      <td>D</td>\n",
       "      <td>20080115</td>\n",
       "      <td>0</td>\n",
       "      <td>224.75</td>\n",
       "      <td>225.06</td>\n",
       "      <td>220.70</td>\n",
       "      <td>221.98</td>\n",
       "      <td>12103721</td>\n",
       "      <td>0</td>\n",
       "    </tr>\n",
       "    <tr>\n",
       "      <th>5</th>\n",
       "      <td>Роснефть</td>\n",
       "      <td>D</td>\n",
       "      <td>20080116</td>\n",
       "      <td>0</td>\n",
       "      <td>220.30</td>\n",
       "      <td>220.30</td>\n",
       "      <td>210.02</td>\n",
       "      <td>212.99</td>\n",
       "      <td>18175767</td>\n",
       "      <td>0</td>\n",
       "    </tr>\n",
       "    <tr>\n",
       "      <th>6</th>\n",
       "      <td>Роснефть</td>\n",
       "      <td>D</td>\n",
       "      <td>20080117</td>\n",
       "      <td>0</td>\n",
       "      <td>214.74</td>\n",
       "      <td>214.74</td>\n",
       "      <td>206.12</td>\n",
       "      <td>209.25</td>\n",
       "      <td>26582430</td>\n",
       "      <td>0</td>\n",
       "    </tr>\n",
       "    <tr>\n",
       "      <th>7</th>\n",
       "      <td>Роснефть</td>\n",
       "      <td>D</td>\n",
       "      <td>20080118</td>\n",
       "      <td>0</td>\n",
       "      <td>207.18</td>\n",
       "      <td>209.50</td>\n",
       "      <td>204.15</td>\n",
       "      <td>206.20</td>\n",
       "      <td>13828570</td>\n",
       "      <td>0</td>\n",
       "    </tr>\n",
       "    <tr>\n",
       "      <th>8</th>\n",
       "      <td>Роснефть</td>\n",
       "      <td>D</td>\n",
       "      <td>20080121</td>\n",
       "      <td>0</td>\n",
       "      <td>203.00</td>\n",
       "      <td>203.15</td>\n",
       "      <td>193.00</td>\n",
       "      <td>194.70</td>\n",
       "      <td>20631356</td>\n",
       "      <td>0</td>\n",
       "    </tr>\n",
       "    <tr>\n",
       "      <th>9</th>\n",
       "      <td>Роснефть</td>\n",
       "      <td>D</td>\n",
       "      <td>20080122</td>\n",
       "      <td>0</td>\n",
       "      <td>185.26</td>\n",
       "      <td>200.00</td>\n",
       "      <td>174.00</td>\n",
       "      <td>188.01</td>\n",
       "      <td>29098888</td>\n",
       "      <td>0</td>\n",
       "    </tr>\n",
       "    <tr>\n",
       "      <th>10</th>\n",
       "      <td>Роснефть</td>\n",
       "      <td>D</td>\n",
       "      <td>20080123</td>\n",
       "      <td>0</td>\n",
       "      <td>191.95</td>\n",
       "      <td>196.00</td>\n",
       "      <td>175.30</td>\n",
       "      <td>175.68</td>\n",
       "      <td>17923987</td>\n",
       "      <td>0</td>\n",
       "    </tr>\n",
       "    <tr>\n",
       "      <th>11</th>\n",
       "      <td>Роснефть</td>\n",
       "      <td>D</td>\n",
       "      <td>20080124</td>\n",
       "      <td>0</td>\n",
       "      <td>184.62</td>\n",
       "      <td>187.49</td>\n",
       "      <td>182.11</td>\n",
       "      <td>186.50</td>\n",
       "      <td>16080120</td>\n",
       "      <td>0</td>\n",
       "    </tr>\n",
       "    <tr>\n",
       "      <th>12</th>\n",
       "      <td>Роснефть</td>\n",
       "      <td>D</td>\n",
       "      <td>20080125</td>\n",
       "      <td>0</td>\n",
       "      <td>189.98</td>\n",
       "      <td>192.80</td>\n",
       "      <td>186.61</td>\n",
       "      <td>189.19</td>\n",
       "      <td>15555829</td>\n",
       "      <td>0</td>\n",
       "    </tr>\n",
       "    <tr>\n",
       "      <th>13</th>\n",
       "      <td>Роснефть</td>\n",
       "      <td>D</td>\n",
       "      <td>20080128</td>\n",
       "      <td>0</td>\n",
       "      <td>184.00</td>\n",
       "      <td>185.00</td>\n",
       "      <td>179.00</td>\n",
       "      <td>179.65</td>\n",
       "      <td>9850360</td>\n",
       "      <td>0</td>\n",
       "    </tr>\n",
       "    <tr>\n",
       "      <th>14</th>\n",
       "      <td>Роснефть</td>\n",
       "      <td>D</td>\n",
       "      <td>20080129</td>\n",
       "      <td>0</td>\n",
       "      <td>183.68</td>\n",
       "      <td>186.65</td>\n",
       "      <td>182.05</td>\n",
       "      <td>186.03</td>\n",
       "      <td>16534515</td>\n",
       "      <td>0</td>\n",
       "    </tr>\n",
       "  </tbody>\n",
       "</table>\n",
       "</div>"
      ],
      "text/plain": [
       "      TICKER PER      DATE  TIME    OPEN    HIGH     LOW   CLOSE       VOL  \\\n",
       "0   Роснефть   D  20080109     0  231.70  236.10  227.02  227.74   7560861   \n",
       "1   Роснефть   D  20080110     0  229.94  231.30  228.12  230.60   8623695   \n",
       "2   Роснефть   D  20080111     0  226.00  226.50  222.38  223.38  19006323   \n",
       "3   Роснефть   D  20080114     0  223.00  226.10  222.53  224.00  11227477   \n",
       "4   Роснефть   D  20080115     0  224.75  225.06  220.70  221.98  12103721   \n",
       "5   Роснефть   D  20080116     0  220.30  220.30  210.02  212.99  18175767   \n",
       "6   Роснефть   D  20080117     0  214.74  214.74  206.12  209.25  26582430   \n",
       "7   Роснефть   D  20080118     0  207.18  209.50  204.15  206.20  13828570   \n",
       "8   Роснефть   D  20080121     0  203.00  203.15  193.00  194.70  20631356   \n",
       "9   Роснефть   D  20080122     0  185.26  200.00  174.00  188.01  29098888   \n",
       "10  Роснефть   D  20080123     0  191.95  196.00  175.30  175.68  17923987   \n",
       "11  Роснефть   D  20080124     0  184.62  187.49  182.11  186.50  16080120   \n",
       "12  Роснефть   D  20080125     0  189.98  192.80  186.61  189.19  15555829   \n",
       "13  Роснефть   D  20080128     0  184.00  185.00  179.00  179.65   9850360   \n",
       "14  Роснефть   D  20080129     0  183.68  186.65  182.05  186.03  16534515   \n",
       "\n",
       "    OPENINT  \n",
       "0         0  \n",
       "1         0  \n",
       "2         0  \n",
       "3         0  \n",
       "4         0  \n",
       "5         0  \n",
       "6         0  \n",
       "7         0  \n",
       "8         0  \n",
       "9         0  \n",
       "10        0  \n",
       "11        0  \n",
       "12        0  \n",
       "13        0  \n",
       "14        0  "
      ]
     },
     "execution_count": 5,
     "metadata": {},
     "output_type": "execute_result"
    }
   ],
   "source": [
    "df.head(15)"
   ]
  },
  {
   "cell_type": "code",
   "execution_count": 6,
   "metadata": {
    "collapsed": false
   },
   "outputs": [
    {
     "name": "stdout",
     "output_type": "stream",
     "text": [
      "\n",
      " TICKER\n",
      "count         2084\n",
      "unique           1\n",
      "top       Роснефть\n",
      "freq          2084\n",
      "Name: TICKER, dtype: object\n",
      "\n",
      " PER\n",
      "count     2084\n",
      "unique       1\n",
      "top          D\n",
      "freq      2084\n",
      "Name: PER, dtype: object\n",
      "\n",
      " DATE\n",
      "count    2.084000e+03\n",
      "mean     2.011771e+07\n",
      "std      2.411549e+04\n",
      "min      2.008011e+07\n",
      "25%      2.010022e+07\n",
      "50%      2.012032e+07\n",
      "75%      2.014041e+07\n",
      "max      2.016051e+07\n",
      "Name: DATE, dtype: float64\n",
      "\n",
      " TIME\n",
      "count    2084.0\n",
      "mean        0.0\n",
      "std         0.0\n",
      "min         0.0\n",
      "25%         0.0\n",
      "50%         0.0\n",
      "75%         0.0\n",
      "max         0.0\n",
      "Name: TIME, dtype: float64\n",
      "\n",
      " OPEN\n",
      "count    2084.000000\n",
      "mean      224.338690\n",
      "std        38.266625\n",
      "min        79.050000\n",
      "25%       207.000000\n",
      "50%       229.770000\n",
      "75%       247.045000\n",
      "max       347.000000\n",
      "Name: OPEN, dtype: float64\n",
      "\n",
      " HIGH\n",
      "count    2084.000000\n",
      "mean      227.598306\n",
      "std        37.927407\n",
      "min        85.400000\n",
      "25%       210.287500\n",
      "50%       232.325000\n",
      "75%       249.515000\n",
      "max       356.950000\n",
      "Name: HIGH, dtype: float64\n",
      "\n",
      " LOW\n",
      "count    2084.000000\n",
      "mean      220.871521\n",
      "std        38.647815\n",
      "min        76.000000\n",
      "25%       203.707500\n",
      "50%       226.745000\n",
      "75%       244.107500\n",
      "max       341.000000\n",
      "Name: LOW, dtype: float64\n",
      "\n",
      " CLOSE\n",
      "count    2084.000000\n",
      "mean      224.285163\n",
      "std        38.325556\n",
      "min        82.410000\n",
      "25%       207.282500\n",
      "50%       229.500000\n",
      "75%       247.215000\n",
      "max       351.000000\n",
      "Name: CLOSE, dtype: float64\n",
      "\n",
      " VOL\n",
      "count    2.084000e+03\n",
      "mean     9.923925e+06\n",
      "std      6.210672e+06\n",
      "min      5.357800e+05\n",
      "25%      5.211105e+06\n",
      "50%      8.580130e+06\n",
      "75%      1.314498e+07\n",
      "max      5.598712e+07\n",
      "Name: VOL, dtype: float64\n",
      "\n",
      " OPENINT\n",
      "count    2084.0\n",
      "mean        0.0\n",
      "std         0.0\n",
      "min         0.0\n",
      "25%         0.0\n",
      "50%         0.0\n",
      "75%         0.0\n",
      "max         0.0\n",
      "Name: OPENINT, dtype: float64\n"
     ]
    }
   ],
   "source": [
    "for c in df.columns:\n",
    "    print('\\n',c)\n",
    "    print(df[c].describe())"
   ]
  },
  {
   "cell_type": "code",
   "execution_count": 7,
   "metadata": {
    "collapsed": false
   },
   "outputs": [
    {
     "data": {
      "text/plain": [
       "2084"
      ]
     },
     "execution_count": 7,
     "metadata": {},
     "output_type": "execute_result"
    }
   ],
   "source": [
    "len(df)"
   ]
  },
  {
   "cell_type": "code",
   "execution_count": 8,
   "metadata": {
    "collapsed": true
   },
   "outputs": [],
   "source": [
    "ds = df.sample(10)"
   ]
  },
  {
   "cell_type": "code",
   "execution_count": 9,
   "metadata": {
    "collapsed": false
   },
   "outputs": [
    {
     "data": {
      "text/html": [
       "<div>\n",
       "<table border=\"1\" class=\"dataframe\">\n",
       "  <thead>\n",
       "    <tr style=\"text-align: right;\">\n",
       "      <th></th>\n",
       "      <th>TICKER</th>\n",
       "      <th>PER</th>\n",
       "      <th>DATE</th>\n",
       "      <th>TIME</th>\n",
       "      <th>OPEN</th>\n",
       "      <th>HIGH</th>\n",
       "      <th>LOW</th>\n",
       "      <th>CLOSE</th>\n",
       "      <th>VOL</th>\n",
       "      <th>OPENINT</th>\n",
       "    </tr>\n",
       "  </thead>\n",
       "  <tbody>\n",
       "    <tr>\n",
       "      <th>714</th>\n",
       "      <td>Роснефть</td>\n",
       "      <td>D</td>\n",
       "      <td>20101123</td>\n",
       "      <td>0</td>\n",
       "      <td>211.50</td>\n",
       "      <td>212.25</td>\n",
       "      <td>209.26</td>\n",
       "      <td>210.32</td>\n",
       "      <td>13245748</td>\n",
       "      <td>0</td>\n",
       "    </tr>\n",
       "    <tr>\n",
       "      <th>443</th>\n",
       "      <td>Роснефть</td>\n",
       "      <td>D</td>\n",
       "      <td>20091021</td>\n",
       "      <td>0</td>\n",
       "      <td>243.00</td>\n",
       "      <td>248.00</td>\n",
       "      <td>240.40</td>\n",
       "      <td>247.90</td>\n",
       "      <td>9940480</td>\n",
       "      <td>0</td>\n",
       "    </tr>\n",
       "    <tr>\n",
       "      <th>654</th>\n",
       "      <td>Роснефть</td>\n",
       "      <td>D</td>\n",
       "      <td>20100830</td>\n",
       "      <td>0</td>\n",
       "      <td>198.84</td>\n",
       "      <td>198.84</td>\n",
       "      <td>195.39</td>\n",
       "      <td>196.00</td>\n",
       "      <td>5147420</td>\n",
       "      <td>0</td>\n",
       "    </tr>\n",
       "    <tr>\n",
       "      <th>1614</th>\n",
       "      <td>Роснефть</td>\n",
       "      <td>D</td>\n",
       "      <td>20140630</td>\n",
       "      <td>0</td>\n",
       "      <td>249.67</td>\n",
       "      <td>250.11</td>\n",
       "      <td>246.35</td>\n",
       "      <td>249.30</td>\n",
       "      <td>3782240</td>\n",
       "      <td>0</td>\n",
       "    </tr>\n",
       "    <tr>\n",
       "      <th>1385</th>\n",
       "      <td>Роснефть</td>\n",
       "      <td>D</td>\n",
       "      <td>20130729</td>\n",
       "      <td>0</td>\n",
       "      <td>241.18</td>\n",
       "      <td>242.28</td>\n",
       "      <td>238.38</td>\n",
       "      <td>239.10</td>\n",
       "      <td>2936390</td>\n",
       "      <td>0</td>\n",
       "    </tr>\n",
       "    <tr>\n",
       "      <th>204</th>\n",
       "      <td>Роснефть</td>\n",
       "      <td>D</td>\n",
       "      <td>20081101</td>\n",
       "      <td>0</td>\n",
       "      <td>125.08</td>\n",
       "      <td>135.50</td>\n",
       "      <td>125.08</td>\n",
       "      <td>125.50</td>\n",
       "      <td>8175131</td>\n",
       "      <td>0</td>\n",
       "    </tr>\n",
       "    <tr>\n",
       "      <th>1981</th>\n",
       "      <td>Роснефть</td>\n",
       "      <td>D</td>\n",
       "      <td>20151211</td>\n",
       "      <td>0</td>\n",
       "      <td>247.90</td>\n",
       "      <td>248.75</td>\n",
       "      <td>243.65</td>\n",
       "      <td>244.85</td>\n",
       "      <td>2266110</td>\n",
       "      <td>0</td>\n",
       "    </tr>\n",
       "    <tr>\n",
       "      <th>636</th>\n",
       "      <td>Роснефть</td>\n",
       "      <td>D</td>\n",
       "      <td>20100804</td>\n",
       "      <td>0</td>\n",
       "      <td>205.82</td>\n",
       "      <td>210.30</td>\n",
       "      <td>204.51</td>\n",
       "      <td>208.50</td>\n",
       "      <td>10726476</td>\n",
       "      <td>0</td>\n",
       "    </tr>\n",
       "    <tr>\n",
       "      <th>1618</th>\n",
       "      <td>Роснефть</td>\n",
       "      <td>D</td>\n",
       "      <td>20140704</td>\n",
       "      <td>0</td>\n",
       "      <td>256.85</td>\n",
       "      <td>259.00</td>\n",
       "      <td>253.90</td>\n",
       "      <td>253.90</td>\n",
       "      <td>5432990</td>\n",
       "      <td>0</td>\n",
       "    </tr>\n",
       "    <tr>\n",
       "      <th>1762</th>\n",
       "      <td>Роснефть</td>\n",
       "      <td>D</td>\n",
       "      <td>20150129</td>\n",
       "      <td>0</td>\n",
       "      <td>231.45</td>\n",
       "      <td>236.00</td>\n",
       "      <td>226.55</td>\n",
       "      <td>226.55</td>\n",
       "      <td>4169590</td>\n",
       "      <td>0</td>\n",
       "    </tr>\n",
       "  </tbody>\n",
       "</table>\n",
       "</div>"
      ],
      "text/plain": [
       "        TICKER PER      DATE  TIME    OPEN    HIGH     LOW   CLOSE       VOL  \\\n",
       "714   Роснефть   D  20101123     0  211.50  212.25  209.26  210.32  13245748   \n",
       "443   Роснефть   D  20091021     0  243.00  248.00  240.40  247.90   9940480   \n",
       "654   Роснефть   D  20100830     0  198.84  198.84  195.39  196.00   5147420   \n",
       "1614  Роснефть   D  20140630     0  249.67  250.11  246.35  249.30   3782240   \n",
       "1385  Роснефть   D  20130729     0  241.18  242.28  238.38  239.10   2936390   \n",
       "204   Роснефть   D  20081101     0  125.08  135.50  125.08  125.50   8175131   \n",
       "1981  Роснефть   D  20151211     0  247.90  248.75  243.65  244.85   2266110   \n",
       "636   Роснефть   D  20100804     0  205.82  210.30  204.51  208.50  10726476   \n",
       "1618  Роснефть   D  20140704     0  256.85  259.00  253.90  253.90   5432990   \n",
       "1762  Роснефть   D  20150129     0  231.45  236.00  226.55  226.55   4169590   \n",
       "\n",
       "      OPENINT  \n",
       "714         0  \n",
       "443         0  \n",
       "654         0  \n",
       "1614        0  \n",
       "1385        0  \n",
       "204         0  \n",
       "1981        0  \n",
       "636         0  \n",
       "1618        0  \n",
       "1762        0  "
      ]
     },
     "execution_count": 9,
     "metadata": {},
     "output_type": "execute_result"
    }
   ],
   "source": [
    "ds"
   ]
  },
  {
   "cell_type": "code",
   "execution_count": 10,
   "metadata": {
    "collapsed": false
   },
   "outputs": [],
   "source": [
    "DF = df\n",
    "\n",
    "DF.sort_values('DATE',inplace=True)\n",
    "\n",
    "dates  = DF['DATE'].values\n",
    "values = DF['CLOSE'].values\n",
    "\n",
    "VALUES = dict(zip(dates,values))\n",
    "\n",
    "delta_map = {}\n",
    "to_plot   = []\n",
    "deltas    = []\n",
    "for x in dates:\n",
    "    row = delta_map.setdefault(x,{})\n",
    "    for y in dates:\n",
    "        delta  = VALUES[x] - VALUES[y] if x >= y else 0\n",
    "        row[y] = delta\n",
    "        if x > y:\n",
    "            deltas.append(delta)\n",
    "            to_plot.append({\n",
    "                    'buy'  : x,\n",
    "                    'sell' : y,\n",
    "                    'value': delta,\n",
    "                })\n",
    "dA = pd.DataFrame(delta_map)\n"
   ]
  },
  {
   "cell_type": "code",
   "execution_count": 11,
   "metadata": {
    "collapsed": false
   },
   "outputs": [],
   "source": [
    "dA;"
   ]
  },
  {
   "cell_type": "code",
   "execution_count": 12,
   "metadata": {
    "collapsed": false
   },
   "outputs": [],
   "source": [
    "DF;"
   ]
  },
  {
   "cell_type": "code",
   "execution_count": 13,
   "metadata": {
    "collapsed": true
   },
   "outputs": [],
   "source": [
    "%matplotlib inline"
   ]
  },
  {
   "cell_type": "code",
   "execution_count": 14,
   "metadata": {
    "collapsed": false
   },
   "outputs": [],
   "source": [
    "import matplotlib.pyplot as plt\n",
    "from matplotlib import colors\n",
    "class MidpointNormalize(colors.Normalize):\n",
    "    def __init__(self, vmin=None, vmax=None, midpoint=None, clip=False):\n",
    "        self.midpoint = midpoint\n",
    "        colors.Normalize.__init__(self, vmin, vmax, clip)\n",
    "\n",
    "    def __call__(self, value, clip=None):\n",
    "        # I'm ignoring masked values and all kinds of edge cases to make a\n",
    "        # simple example...\n",
    "        x, y = [self.vmin, self.midpoint, self.vmax], [0, 0.5, 1]\n",
    "        return np.ma.masked_array(np.interp(value, x, y))"
   ]
  },
  {
   "cell_type": "code",
   "execution_count": 74,
   "metadata": {
    "collapsed": false
   },
   "outputs": [
    {
     "data": {
      "image/png": "[encoded data removed]",
      "text/plain": [
       "<matplotlib.figure.Figure at 0x7fe9777543c8>"
      ]
     },
     "metadata": {},
     "output_type": "display_data"
    }
   ],
   "source": [
    "def tics_formatter(x):\n",
    "    x = int(x)\n",
    "    if (x>=0)and(x<len(dates)):\n",
    "        d = dates[x] \n",
    "        return '{}-{:02d}-{:02d}'.format(d // 10000, d // 100 % 100, d % 100)\n",
    "    else:\n",
    "        return ''\n",
    "\n",
    "fig,ax = plt.subplots();\n",
    "plt.imshow(dA,norm=MidpointNormalize(midpoint=0.),cmap=plt.cm.bwr_r);\n",
    "plt.colorbar();\n",
    "date_xlabels = map(tics_formatter,plt.xticks()[0])\n",
    "date_ylabels = map(tics_formatter,plt.yticks()[0])\n",
    "ax.set_xticklabels(date_xlabels,rotation='vertical');\n",
    "ax.set_yticklabels(date_ylabels);\n"
   ]
  },
  {
   "cell_type": "code",
   "execution_count": 16,
   "metadata": {
    "collapsed": false
   },
   "outputs": [
    {
     "data": {
      "image/png": "[encoded data removed]",
      "text/plain": [
       "<matplotlib.figure.Figure at 0x7fe978afdd68>"
      ]
     },
     "metadata": {},
     "output_type": "display_data"
    }
   ],
   "source": [
    "plt.hist(deltas,bins=24,normed=True);"
   ]
  },
  {
   "cell_type": "code",
   "execution_count": 17,
   "metadata": {
    "collapsed": false
   },
   "outputs": [
    {
     "data": {
      "text/plain": [
       "(23.989851867277661, 18.819999999999993)"
      ]
     },
     "execution_count": 17,
     "metadata": {},
     "output_type": "execute_result"
    }
   ],
   "source": [
    "np.mean(deltas),np.median(deltas)"
   ]
  }
 ],
 "metadata": {
  "kernelspec": {
   "display_name": "Python 3",
   "language": "python",
   "name": "python3"
  },
  "language_info": {
   "codemirror_mode": {
    "name": "ipython",
    "version": 3
   },
   "file_extension": ".py",
   "mimetype": "text/x-python",
   "name": "python",
   "nbconvert_exporter": "python",
   "pygments_lexer": "ipython3",
   "version": "3.5.1"
  }
 },
 "nbformat": 4,
 "nbformat_minor": 0
}
